{
 "cells": [
  {
   "cell_type": "code",
   "execution_count": 1,
   "metadata": {},
   "outputs": [],
   "source": [
    "import pandas as pd\n",
    "import numpy as np\n",
    "from datetime import datetime\n",
    "\n",
    "from tqdm.notebook import tqdm\n",
    "\n",
    "import matplotlib.pyplot as plt\n",
    "\n",
    "from sklearn.feature_extraction.text import TfidfTransformer, CountVectorizer\n",
    "from sklearn.neighbors import NearestNeighbors\n",
    "\n",
    "from sklearn.metrics import mean_squared_error\n",
    "\n",
    "from sklearn.model_selection import train_test_split\n",
    "from sklearn.linear_model import LogisticRegression\n",
    "from sklearn.linear_model import LinearRegression\n",
    "from sklearn.neighbors import KNeighborsRegressor\n",
    "from sklearn.svm import SVC\n",
    "from sklearn.model_selection import cross_val_score\n",
    "\n",
    "%matplotlib inline"
   ]
  },
  {
   "cell_type": "markdown",
   "metadata": {},
   "source": [
    "Загружаем датасет"
   ]
  },
  {
   "cell_type": "code",
   "execution_count": 2,
   "metadata": {},
   "outputs": [],
   "source": [
    "links = pd.read_csv('/Users/irinanikulina/Documents/ML/RecommendationSystems/links.csv')\n",
    "movies = pd.read_csv('/Users/irinanikulina/Documents/ML/RecommendationSystems/movies.csv')\n",
    "ratings = pd.read_csv('/Users/irinanikulina/Documents/ML/RecommendationSystems/ratings.csv')\n",
    "tags = pd.read_csv('/Users/irinanikulina/Documents/ML/RecommendationSystems/tags.csv')"
   ]
  },
  {
   "cell_type": "code",
   "execution_count": 3,
   "metadata": {},
   "outputs": [
    {
     "data": {
      "text/html": [
       "<div>\n",
       "<style scoped>\n",
       "    .dataframe tbody tr th:only-of-type {\n",
       "        vertical-align: middle;\n",
       "    }\n",
       "\n",
       "    .dataframe tbody tr th {\n",
       "        vertical-align: top;\n",
       "    }\n",
       "\n",
       "    .dataframe thead th {\n",
       "        text-align: right;\n",
       "    }\n",
       "</style>\n",
       "<table border=\"1\" class=\"dataframe\">\n",
       "  <thead>\n",
       "    <tr style=\"text-align: right;\">\n",
       "      <th></th>\n",
       "      <th>movieId</th>\n",
       "      <th>imdbId</th>\n",
       "      <th>tmdbId</th>\n",
       "    </tr>\n",
       "  </thead>\n",
       "  <tbody>\n",
       "    <tr>\n",
       "      <th>0</th>\n",
       "      <td>1</td>\n",
       "      <td>114709</td>\n",
       "      <td>862.0</td>\n",
       "    </tr>\n",
       "    <tr>\n",
       "      <th>1</th>\n",
       "      <td>2</td>\n",
       "      <td>113497</td>\n",
       "      <td>8844.0</td>\n",
       "    </tr>\n",
       "    <tr>\n",
       "      <th>2</th>\n",
       "      <td>3</td>\n",
       "      <td>113228</td>\n",
       "      <td>15602.0</td>\n",
       "    </tr>\n",
       "    <tr>\n",
       "      <th>3</th>\n",
       "      <td>4</td>\n",
       "      <td>114885</td>\n",
       "      <td>31357.0</td>\n",
       "    </tr>\n",
       "    <tr>\n",
       "      <th>4</th>\n",
       "      <td>5</td>\n",
       "      <td>113041</td>\n",
       "      <td>11862.0</td>\n",
       "    </tr>\n",
       "  </tbody>\n",
       "</table>\n",
       "</div>"
      ],
      "text/plain": [
       "   movieId  imdbId   tmdbId\n",
       "0        1  114709    862.0\n",
       "1        2  113497   8844.0\n",
       "2        3  113228  15602.0\n",
       "3        4  114885  31357.0\n",
       "4        5  113041  11862.0"
      ]
     },
     "execution_count": 3,
     "metadata": {},
     "output_type": "execute_result"
    }
   ],
   "source": [
    "links.head()"
   ]
  },
  {
   "cell_type": "code",
   "execution_count": 4,
   "metadata": {},
   "outputs": [
    {
     "data": {
      "text/html": [
       "<div>\n",
       "<style scoped>\n",
       "    .dataframe tbody tr th:only-of-type {\n",
       "        vertical-align: middle;\n",
       "    }\n",
       "\n",
       "    .dataframe tbody tr th {\n",
       "        vertical-align: top;\n",
       "    }\n",
       "\n",
       "    .dataframe thead th {\n",
       "        text-align: right;\n",
       "    }\n",
       "</style>\n",
       "<table border=\"1\" class=\"dataframe\">\n",
       "  <thead>\n",
       "    <tr style=\"text-align: right;\">\n",
       "      <th></th>\n",
       "      <th>movieId</th>\n",
       "      <th>title</th>\n",
       "      <th>genres</th>\n",
       "    </tr>\n",
       "  </thead>\n",
       "  <tbody>\n",
       "    <tr>\n",
       "      <th>0</th>\n",
       "      <td>1</td>\n",
       "      <td>Toy Story (1995)</td>\n",
       "      <td>Adventure|Animation|Children|Comedy|Fantasy</td>\n",
       "    </tr>\n",
       "    <tr>\n",
       "      <th>1</th>\n",
       "      <td>2</td>\n",
       "      <td>Jumanji (1995)</td>\n",
       "      <td>Adventure|Children|Fantasy</td>\n",
       "    </tr>\n",
       "    <tr>\n",
       "      <th>2</th>\n",
       "      <td>3</td>\n",
       "      <td>Grumpier Old Men (1995)</td>\n",
       "      <td>Comedy|Romance</td>\n",
       "    </tr>\n",
       "    <tr>\n",
       "      <th>3</th>\n",
       "      <td>4</td>\n",
       "      <td>Waiting to Exhale (1995)</td>\n",
       "      <td>Comedy|Drama|Romance</td>\n",
       "    </tr>\n",
       "    <tr>\n",
       "      <th>4</th>\n",
       "      <td>5</td>\n",
       "      <td>Father of the Bride Part II (1995)</td>\n",
       "      <td>Comedy</td>\n",
       "    </tr>\n",
       "  </tbody>\n",
       "</table>\n",
       "</div>"
      ],
      "text/plain": [
       "   movieId                               title  \\\n",
       "0        1                    Toy Story (1995)   \n",
       "1        2                      Jumanji (1995)   \n",
       "2        3             Grumpier Old Men (1995)   \n",
       "3        4            Waiting to Exhale (1995)   \n",
       "4        5  Father of the Bride Part II (1995)   \n",
       "\n",
       "                                        genres  \n",
       "0  Adventure|Animation|Children|Comedy|Fantasy  \n",
       "1                   Adventure|Children|Fantasy  \n",
       "2                               Comedy|Romance  \n",
       "3                         Comedy|Drama|Romance  \n",
       "4                                       Comedy  "
      ]
     },
     "execution_count": 4,
     "metadata": {},
     "output_type": "execute_result"
    }
   ],
   "source": [
    "movies.head()"
   ]
  },
  {
   "cell_type": "code",
   "execution_count": 5,
   "metadata": {},
   "outputs": [
    {
     "data": {
      "text/html": [
       "<div>\n",
       "<style scoped>\n",
       "    .dataframe tbody tr th:only-of-type {\n",
       "        vertical-align: middle;\n",
       "    }\n",
       "\n",
       "    .dataframe tbody tr th {\n",
       "        vertical-align: top;\n",
       "    }\n",
       "\n",
       "    .dataframe thead th {\n",
       "        text-align: right;\n",
       "    }\n",
       "</style>\n",
       "<table border=\"1\" class=\"dataframe\">\n",
       "  <thead>\n",
       "    <tr style=\"text-align: right;\">\n",
       "      <th></th>\n",
       "      <th>userId</th>\n",
       "      <th>movieId</th>\n",
       "      <th>rating</th>\n",
       "      <th>timestamp</th>\n",
       "    </tr>\n",
       "  </thead>\n",
       "  <tbody>\n",
       "    <tr>\n",
       "      <th>0</th>\n",
       "      <td>1</td>\n",
       "      <td>1</td>\n",
       "      <td>4.0</td>\n",
       "      <td>964982703</td>\n",
       "    </tr>\n",
       "    <tr>\n",
       "      <th>1</th>\n",
       "      <td>1</td>\n",
       "      <td>3</td>\n",
       "      <td>4.0</td>\n",
       "      <td>964981247</td>\n",
       "    </tr>\n",
       "    <tr>\n",
       "      <th>2</th>\n",
       "      <td>1</td>\n",
       "      <td>6</td>\n",
       "      <td>4.0</td>\n",
       "      <td>964982224</td>\n",
       "    </tr>\n",
       "    <tr>\n",
       "      <th>3</th>\n",
       "      <td>1</td>\n",
       "      <td>47</td>\n",
       "      <td>5.0</td>\n",
       "      <td>964983815</td>\n",
       "    </tr>\n",
       "    <tr>\n",
       "      <th>4</th>\n",
       "      <td>1</td>\n",
       "      <td>50</td>\n",
       "      <td>5.0</td>\n",
       "      <td>964982931</td>\n",
       "    </tr>\n",
       "  </tbody>\n",
       "</table>\n",
       "</div>"
      ],
      "text/plain": [
       "   userId  movieId  rating  timestamp\n",
       "0       1        1     4.0  964982703\n",
       "1       1        3     4.0  964981247\n",
       "2       1        6     4.0  964982224\n",
       "3       1       47     5.0  964983815\n",
       "4       1       50     5.0  964982931"
      ]
     },
     "execution_count": 5,
     "metadata": {},
     "output_type": "execute_result"
    }
   ],
   "source": [
    "ratings.head()"
   ]
  },
  {
   "cell_type": "code",
   "execution_count": 6,
   "metadata": {},
   "outputs": [
    {
     "data": {
      "text/html": [
       "<div>\n",
       "<style scoped>\n",
       "    .dataframe tbody tr th:only-of-type {\n",
       "        vertical-align: middle;\n",
       "    }\n",
       "\n",
       "    .dataframe tbody tr th {\n",
       "        vertical-align: top;\n",
       "    }\n",
       "\n",
       "    .dataframe thead th {\n",
       "        text-align: right;\n",
       "    }\n",
       "</style>\n",
       "<table border=\"1\" class=\"dataframe\">\n",
       "  <thead>\n",
       "    <tr style=\"text-align: right;\">\n",
       "      <th></th>\n",
       "      <th>userId</th>\n",
       "      <th>movieId</th>\n",
       "      <th>tag</th>\n",
       "      <th>timestamp</th>\n",
       "    </tr>\n",
       "  </thead>\n",
       "  <tbody>\n",
       "    <tr>\n",
       "      <th>0</th>\n",
       "      <td>2</td>\n",
       "      <td>60756</td>\n",
       "      <td>funny</td>\n",
       "      <td>1445714994</td>\n",
       "    </tr>\n",
       "    <tr>\n",
       "      <th>1</th>\n",
       "      <td>2</td>\n",
       "      <td>60756</td>\n",
       "      <td>Highly quotable</td>\n",
       "      <td>1445714996</td>\n",
       "    </tr>\n",
       "    <tr>\n",
       "      <th>2</th>\n",
       "      <td>2</td>\n",
       "      <td>60756</td>\n",
       "      <td>will ferrell</td>\n",
       "      <td>1445714992</td>\n",
       "    </tr>\n",
       "    <tr>\n",
       "      <th>3</th>\n",
       "      <td>2</td>\n",
       "      <td>89774</td>\n",
       "      <td>Boxing story</td>\n",
       "      <td>1445715207</td>\n",
       "    </tr>\n",
       "    <tr>\n",
       "      <th>4</th>\n",
       "      <td>2</td>\n",
       "      <td>89774</td>\n",
       "      <td>MMA</td>\n",
       "      <td>1445715200</td>\n",
       "    </tr>\n",
       "  </tbody>\n",
       "</table>\n",
       "</div>"
      ],
      "text/plain": [
       "   userId  movieId              tag   timestamp\n",
       "0       2    60756            funny  1445714994\n",
       "1       2    60756  Highly quotable  1445714996\n",
       "2       2    60756     will ferrell  1445714992\n",
       "3       2    89774     Boxing story  1445715207\n",
       "4       2    89774              MMA  1445715200"
      ]
     },
     "execution_count": 6,
     "metadata": {},
     "output_type": "execute_result"
    }
   ],
   "source": [
    "tags.head()"
   ]
  },
  {
   "cell_type": "code",
   "execution_count": 7,
   "metadata": {},
   "outputs": [],
   "source": [
    "# Создание нового датафрейма для работы\n",
    "movies_with_ratings = movies.join(ratings.set_index('movieId'), on='movieId').reset_index(drop=True)\n",
    "movies_with_ratings.dropna(inplace=True)"
   ]
  },
  {
   "cell_type": "code",
   "execution_count": 8,
   "metadata": {},
   "outputs": [
    {
     "data": {
      "text/html": [
       "<div>\n",
       "<style scoped>\n",
       "    .dataframe tbody tr th:only-of-type {\n",
       "        vertical-align: middle;\n",
       "    }\n",
       "\n",
       "    .dataframe tbody tr th {\n",
       "        vertical-align: top;\n",
       "    }\n",
       "\n",
       "    .dataframe thead th {\n",
       "        text-align: right;\n",
       "    }\n",
       "</style>\n",
       "<table border=\"1\" class=\"dataframe\">\n",
       "  <thead>\n",
       "    <tr style=\"text-align: right;\">\n",
       "      <th></th>\n",
       "      <th>movieId</th>\n",
       "      <th>title</th>\n",
       "      <th>genres</th>\n",
       "      <th>userId</th>\n",
       "      <th>rating</th>\n",
       "      <th>timestamp</th>\n",
       "    </tr>\n",
       "  </thead>\n",
       "  <tbody>\n",
       "    <tr>\n",
       "      <th>0</th>\n",
       "      <td>1</td>\n",
       "      <td>Toy Story (1995)</td>\n",
       "      <td>Adventure|Animation|Children|Comedy|Fantasy</td>\n",
       "      <td>1.0</td>\n",
       "      <td>4.0</td>\n",
       "      <td>9.649827e+08</td>\n",
       "    </tr>\n",
       "    <tr>\n",
       "      <th>1</th>\n",
       "      <td>1</td>\n",
       "      <td>Toy Story (1995)</td>\n",
       "      <td>Adventure|Animation|Children|Comedy|Fantasy</td>\n",
       "      <td>5.0</td>\n",
       "      <td>4.0</td>\n",
       "      <td>8.474350e+08</td>\n",
       "    </tr>\n",
       "    <tr>\n",
       "      <th>2</th>\n",
       "      <td>1</td>\n",
       "      <td>Toy Story (1995)</td>\n",
       "      <td>Adventure|Animation|Children|Comedy|Fantasy</td>\n",
       "      <td>7.0</td>\n",
       "      <td>4.5</td>\n",
       "      <td>1.106636e+09</td>\n",
       "    </tr>\n",
       "    <tr>\n",
       "      <th>3</th>\n",
       "      <td>1</td>\n",
       "      <td>Toy Story (1995)</td>\n",
       "      <td>Adventure|Animation|Children|Comedy|Fantasy</td>\n",
       "      <td>15.0</td>\n",
       "      <td>2.5</td>\n",
       "      <td>1.510578e+09</td>\n",
       "    </tr>\n",
       "    <tr>\n",
       "      <th>4</th>\n",
       "      <td>1</td>\n",
       "      <td>Toy Story (1995)</td>\n",
       "      <td>Adventure|Animation|Children|Comedy|Fantasy</td>\n",
       "      <td>17.0</td>\n",
       "      <td>4.5</td>\n",
       "      <td>1.305696e+09</td>\n",
       "    </tr>\n",
       "  </tbody>\n",
       "</table>\n",
       "</div>"
      ],
      "text/plain": [
       "   movieId             title                                       genres  \\\n",
       "0        1  Toy Story (1995)  Adventure|Animation|Children|Comedy|Fantasy   \n",
       "1        1  Toy Story (1995)  Adventure|Animation|Children|Comedy|Fantasy   \n",
       "2        1  Toy Story (1995)  Adventure|Animation|Children|Comedy|Fantasy   \n",
       "3        1  Toy Story (1995)  Adventure|Animation|Children|Comedy|Fantasy   \n",
       "4        1  Toy Story (1995)  Adventure|Animation|Children|Comedy|Fantasy   \n",
       "\n",
       "   userId  rating     timestamp  \n",
       "0     1.0     4.0  9.649827e+08  \n",
       "1     5.0     4.0  8.474350e+08  \n",
       "2     7.0     4.5  1.106636e+09  \n",
       "3    15.0     2.5  1.510578e+09  \n",
       "4    17.0     4.5  1.305696e+09  "
      ]
     },
     "execution_count": 8,
     "metadata": {},
     "output_type": "execute_result"
    }
   ],
   "source": [
    "movies_with_ratings.head()"
   ]
  },
  {
   "cell_type": "code",
   "execution_count": 9,
   "metadata": {},
   "outputs": [],
   "source": [
    "def change_string(s):\n",
    "    return' '.join(s.replace(' ','').replace('-','').split('|'))"
   ]
  },
  {
   "cell_type": "code",
   "execution_count": 10,
   "metadata": {},
   "outputs": [],
   "source": [
    "movie_genres = [change_string(g) for g in movies_with_ratings.genres.values]"
   ]
  },
  {
   "cell_type": "markdown",
   "metadata": {},
   "source": [
    "Построим рекомендации (регрессия, предсказываем оценку) на TF-IDF по жанрам"
   ]
  },
  {
   "cell_type": "code",
   "execution_count": 11,
   "metadata": {},
   "outputs": [
    {
     "data": {
      "text/plain": [
       "['Adventure Animation Children Comedy Fantasy',\n",
       " 'Adventure Animation Children Comedy Fantasy',\n",
       " 'Adventure Animation Children Comedy Fantasy',\n",
       " 'Adventure Animation Children Comedy Fantasy',\n",
       " 'Adventure Animation Children Comedy Fantasy',\n",
       " 'Adventure Animation Children Comedy Fantasy',\n",
       " 'Adventure Animation Children Comedy Fantasy',\n",
       " 'Adventure Animation Children Comedy Fantasy',\n",
       " 'Adventure Animation Children Comedy Fantasy',\n",
       " 'Adventure Animation Children Comedy Fantasy',\n",
       " 'Adventure Animation Children Comedy Fantasy',\n",
       " 'Adventure Animation Children Comedy Fantasy',\n",
       " 'Adventure Animation Children Comedy Fantasy',\n",
       " 'Adventure Animation Children Comedy Fantasy',\n",
       " 'Adventure Animation Children Comedy Fantasy',\n",
       " 'Adventure Animation Children Comedy Fantasy',\n",
       " 'Adventure Animation Children Comedy Fantasy',\n",
       " 'Adventure Animation Children Comedy Fantasy',\n",
       " 'Adventure Animation Children Comedy Fantasy',\n",
       " 'Adventure Animation Children Comedy Fantasy',\n",
       " 'Adventure Animation Children Comedy Fantasy',\n",
       " 'Adventure Animation Children Comedy Fantasy',\n",
       " 'Adventure Animation Children Comedy Fantasy',\n",
       " 'Adventure Animation Children Comedy Fantasy',\n",
       " 'Adventure Animation Children Comedy Fantasy',\n",
       " 'Adventure Animation Children Comedy Fantasy',\n",
       " 'Adventure Animation Children Comedy Fantasy',\n",
       " 'Adventure Animation Children Comedy Fantasy',\n",
       " 'Adventure Animation Children Comedy Fantasy',\n",
       " 'Adventure Animation Children Comedy Fantasy',\n",
       " 'Adventure Animation Children Comedy Fantasy',\n",
       " 'Adventure Animation Children Comedy Fantasy',\n",
       " 'Adventure Animation Children Comedy Fantasy',\n",
       " 'Adventure Animation Children Comedy Fantasy',\n",
       " 'Adventure Animation Children Comedy Fantasy',\n",
       " 'Adventure Animation Children Comedy Fantasy',\n",
       " 'Adventure Animation Children Comedy Fantasy',\n",
       " 'Adventure Animation Children Comedy Fantasy',\n",
       " 'Adventure Animation Children Comedy Fantasy',\n",
       " 'Adventure Animation Children Comedy Fantasy',\n",
       " 'Adventure Animation Children Comedy Fantasy',\n",
       " 'Adventure Animation Children Comedy Fantasy',\n",
       " 'Adventure Animation Children Comedy Fantasy',\n",
       " 'Adventure Animation Children Comedy Fantasy',\n",
       " 'Adventure Animation Children Comedy Fantasy',\n",
       " 'Adventure Animation Children Comedy Fantasy',\n",
       " 'Adventure Animation Children Comedy Fantasy',\n",
       " 'Adventure Animation Children Comedy Fantasy',\n",
       " 'Adventure Animation Children Comedy Fantasy',\n",
       " 'Adventure Animation Children Comedy Fantasy',\n",
       " 'Adventure Animation Children Comedy Fantasy',\n",
       " 'Adventure Animation Children Comedy Fantasy',\n",
       " 'Adventure Animation Children Comedy Fantasy',\n",
       " 'Adventure Animation Children Comedy Fantasy',\n",
       " 'Adventure Animation Children Comedy Fantasy',\n",
       " 'Adventure Animation Children Comedy Fantasy',\n",
       " 'Adventure Animation Children Comedy Fantasy',\n",
       " 'Adventure Animation Children Comedy Fantasy',\n",
       " 'Adventure Animation Children Comedy Fantasy',\n",
       " 'Adventure Animation Children Comedy Fantasy',\n",
       " 'Adventure Animation Children Comedy Fantasy',\n",
       " 'Adventure Animation Children Comedy Fantasy',\n",
       " 'Adventure Animation Children Comedy Fantasy',\n",
       " 'Adventure Animation Children Comedy Fantasy',\n",
       " 'Adventure Animation Children Comedy Fantasy',\n",
       " 'Adventure Animation Children Comedy Fantasy',\n",
       " 'Adventure Animation Children Comedy Fantasy',\n",
       " 'Adventure Animation Children Comedy Fantasy',\n",
       " 'Adventure Animation Children Comedy Fantasy',\n",
       " 'Adventure Animation Children Comedy Fantasy',\n",
       " 'Adventure Animation Children Comedy Fantasy',\n",
       " 'Adventure Animation Children Comedy Fantasy',\n",
       " 'Adventure Animation Children Comedy Fantasy',\n",
       " 'Adventure Animation Children Comedy Fantasy',\n",
       " 'Adventure Animation Children Comedy Fantasy',\n",
       " 'Adventure Animation Children Comedy Fantasy',\n",
       " 'Adventure Animation Children Comedy Fantasy',\n",
       " 'Adventure Animation Children Comedy Fantasy',\n",
       " 'Adventure Animation Children Comedy Fantasy',\n",
       " 'Adventure Animation Children Comedy Fantasy',\n",
       " 'Adventure Animation Children Comedy Fantasy',\n",
       " 'Adventure Animation Children Comedy Fantasy',\n",
       " 'Adventure Animation Children Comedy Fantasy',\n",
       " 'Adventure Animation Children Comedy Fantasy',\n",
       " 'Adventure Animation Children Comedy Fantasy',\n",
       " 'Adventure Animation Children Comedy Fantasy',\n",
       " 'Adventure Animation Children Comedy Fantasy',\n",
       " 'Adventure Animation Children Comedy Fantasy',\n",
       " 'Adventure Animation Children Comedy Fantasy',\n",
       " 'Adventure Animation Children Comedy Fantasy',\n",
       " 'Adventure Animation Children Comedy Fantasy',\n",
       " 'Adventure Animation Children Comedy Fantasy',\n",
       " 'Adventure Animation Children Comedy Fantasy',\n",
       " 'Adventure Animation Children Comedy Fantasy',\n",
       " 'Adventure Animation Children Comedy Fantasy',\n",
       " 'Adventure Animation Children Comedy Fantasy',\n",
       " 'Adventure Animation Children Comedy Fantasy',\n",
       " 'Adventure Animation Children Comedy Fantasy',\n",
       " 'Adventure Animation Children Comedy Fantasy',\n",
       " 'Adventure Animation Children Comedy Fantasy',\n",
       " 'Adventure Animation Children Comedy Fantasy',\n",
       " 'Adventure Animation Children Comedy Fantasy',\n",
       " 'Adventure Animation Children Comedy Fantasy',\n",
       " 'Adventure Animation Children Comedy Fantasy',\n",
       " 'Adventure Animation Children Comedy Fantasy',\n",
       " 'Adventure Animation Children Comedy Fantasy',\n",
       " 'Adventure Animation Children Comedy Fantasy',\n",
       " 'Adventure Animation Children Comedy Fantasy',\n",
       " 'Adventure Animation Children Comedy Fantasy',\n",
       " 'Adventure Animation Children Comedy Fantasy',\n",
       " 'Adventure Animation Children Comedy Fantasy',\n",
       " 'Adventure Animation Children Comedy Fantasy',\n",
       " 'Adventure Animation Children Comedy Fantasy',\n",
       " 'Adventure Animation Children Comedy Fantasy',\n",
       " 'Adventure Animation Children Comedy Fantasy',\n",
       " 'Adventure Animation Children Comedy Fantasy',\n",
       " 'Adventure Animation Children Comedy Fantasy',\n",
       " 'Adventure Animation Children Comedy Fantasy',\n",
       " 'Adventure Animation Children Comedy Fantasy',\n",
       " 'Adventure Animation Children Comedy Fantasy',\n",
       " 'Adventure Animation Children Comedy Fantasy',\n",
       " 'Adventure Animation Children Comedy Fantasy',\n",
       " 'Adventure Animation Children Comedy Fantasy',\n",
       " 'Adventure Animation Children Comedy Fantasy',\n",
       " 'Adventure Animation Children Comedy Fantasy',\n",
       " 'Adventure Animation Children Comedy Fantasy',\n",
       " 'Adventure Animation Children Comedy Fantasy',\n",
       " 'Adventure Animation Children Comedy Fantasy',\n",
       " 'Adventure Animation Children Comedy Fantasy',\n",
       " 'Adventure Animation Children Comedy Fantasy',\n",
       " 'Adventure Animation Children Comedy Fantasy',\n",
       " 'Adventure Animation Children Comedy Fantasy',\n",
       " 'Adventure Animation Children Comedy Fantasy',\n",
       " 'Adventure Animation Children Comedy Fantasy',\n",
       " 'Adventure Animation Children Comedy Fantasy',\n",
       " 'Adventure Animation Children Comedy Fantasy',\n",
       " 'Adventure Animation Children Comedy Fantasy',\n",
       " 'Adventure Animation Children Comedy Fantasy',\n",
       " 'Adventure Animation Children Comedy Fantasy',\n",
       " 'Adventure Animation Children Comedy Fantasy',\n",
       " 'Adventure Animation Children Comedy Fantasy',\n",
       " 'Adventure Animation Children Comedy Fantasy',\n",
       " 'Adventure Animation Children Comedy Fantasy',\n",
       " 'Adventure Animation Children Comedy Fantasy',\n",
       " 'Adventure Animation Children Comedy Fantasy',\n",
       " 'Adventure Animation Children Comedy Fantasy',\n",
       " 'Adventure Animation Children Comedy Fantasy',\n",
       " 'Adventure Animation Children Comedy Fantasy',\n",
       " 'Adventure Animation Children Comedy Fantasy',\n",
       " 'Adventure Animation Children Comedy Fantasy',\n",
       " 'Adventure Animation Children Comedy Fantasy',\n",
       " 'Adventure Animation Children Comedy Fantasy',\n",
       " 'Adventure Animation Children Comedy Fantasy',\n",
       " 'Adventure Animation Children Comedy Fantasy',\n",
       " 'Adventure Animation Children Comedy Fantasy',\n",
       " 'Adventure Animation Children Comedy Fantasy',\n",
       " 'Adventure Animation Children Comedy Fantasy',\n",
       " 'Adventure Animation Children Comedy Fantasy',\n",
       " 'Adventure Animation Children Comedy Fantasy',\n",
       " 'Adventure Animation Children Comedy Fantasy',\n",
       " 'Adventure Animation Children Comedy Fantasy',\n",
       " 'Adventure Animation Children Comedy Fantasy',\n",
       " 'Adventure Animation Children Comedy Fantasy',\n",
       " 'Adventure Animation Children Comedy Fantasy',\n",
       " 'Adventure Animation Children Comedy Fantasy',\n",
       " 'Adventure Animation Children Comedy Fantasy',\n",
       " 'Adventure Animation Children Comedy Fantasy',\n",
       " 'Adventure Animation Children Comedy Fantasy',\n",
       " 'Adventure Animation Children Comedy Fantasy',\n",
       " 'Adventure Animation Children Comedy Fantasy',\n",
       " 'Adventure Animation Children Comedy Fantasy',\n",
       " 'Adventure Animation Children Comedy Fantasy',\n",
       " 'Adventure Animation Children Comedy Fantasy',\n",
       " 'Adventure Animation Children Comedy Fantasy',\n",
       " 'Adventure Animation Children Comedy Fantasy',\n",
       " 'Adventure Animation Children Comedy Fantasy',\n",
       " 'Adventure Animation Children Comedy Fantasy',\n",
       " 'Adventure Animation Children Comedy Fantasy',\n",
       " 'Adventure Animation Children Comedy Fantasy',\n",
       " 'Adventure Animation Children Comedy Fantasy',\n",
       " 'Adventure Animation Children Comedy Fantasy',\n",
       " 'Adventure Animation Children Comedy Fantasy',\n",
       " 'Adventure Animation Children Comedy Fantasy',\n",
       " 'Adventure Animation Children Comedy Fantasy',\n",
       " 'Adventure Animation Children Comedy Fantasy',\n",
       " 'Adventure Animation Children Comedy Fantasy',\n",
       " 'Adventure Animation Children Comedy Fantasy',\n",
       " 'Adventure Animation Children Comedy Fantasy',\n",
       " 'Adventure Animation Children Comedy Fantasy',\n",
       " 'Adventure Animation Children Comedy Fantasy',\n",
       " 'Adventure Animation Children Comedy Fantasy',\n",
       " 'Adventure Animation Children Comedy Fantasy',\n",
       " 'Adventure Animation Children Comedy Fantasy',\n",
       " 'Adventure Animation Children Comedy Fantasy',\n",
       " 'Adventure Animation Children Comedy Fantasy',\n",
       " 'Adventure Animation Children Comedy Fantasy',\n",
       " 'Adventure Animation Children Comedy Fantasy',\n",
       " 'Adventure Animation Children Comedy Fantasy',\n",
       " 'Adventure Animation Children Comedy Fantasy',\n",
       " 'Adventure Animation Children Comedy Fantasy',\n",
       " 'Adventure Animation Children Comedy Fantasy',\n",
       " 'Adventure Animation Children Comedy Fantasy',\n",
       " 'Adventure Animation Children Comedy Fantasy',\n",
       " 'Adventure Animation Children Comedy Fantasy',\n",
       " 'Adventure Animation Children Comedy Fantasy',\n",
       " 'Adventure Animation Children Comedy Fantasy',\n",
       " 'Adventure Animation Children Comedy Fantasy',\n",
       " 'Adventure Animation Children Comedy Fantasy',\n",
       " 'Adventure Animation Children Comedy Fantasy',\n",
       " 'Adventure Animation Children Comedy Fantasy',\n",
       " 'Adventure Animation Children Comedy Fantasy',\n",
       " 'Adventure Animation Children Comedy Fantasy',\n",
       " 'Adventure Animation Children Comedy Fantasy',\n",
       " 'Adventure Animation Children Comedy Fantasy',\n",
       " 'Adventure Animation Children Comedy Fantasy',\n",
       " 'Adventure Children Fantasy',\n",
       " 'Adventure Children Fantasy',\n",
       " 'Adventure Children Fantasy',\n",
       " 'Adventure Children Fantasy',\n",
       " 'Adventure Children Fantasy',\n",
       " 'Adventure Children Fantasy',\n",
       " 'Adventure Children Fantasy',\n",
       " 'Adventure Children Fantasy',\n",
       " 'Adventure Children Fantasy',\n",
       " 'Adventure Children Fantasy',\n",
       " 'Adventure Children Fantasy',\n",
       " 'Adventure Children Fantasy',\n",
       " 'Adventure Children Fantasy',\n",
       " 'Adventure Children Fantasy',\n",
       " 'Adventure Children Fantasy',\n",
       " 'Adventure Children Fantasy',\n",
       " 'Adventure Children Fantasy',\n",
       " 'Adventure Children Fantasy',\n",
       " 'Adventure Children Fantasy',\n",
       " 'Adventure Children Fantasy',\n",
       " 'Adventure Children Fantasy',\n",
       " 'Adventure Children Fantasy',\n",
       " 'Adventure Children Fantasy',\n",
       " 'Adventure Children Fantasy',\n",
       " 'Adventure Children Fantasy',\n",
       " 'Adventure Children Fantasy',\n",
       " 'Adventure Children Fantasy',\n",
       " 'Adventure Children Fantasy',\n",
       " 'Adventure Children Fantasy',\n",
       " 'Adventure Children Fantasy',\n",
       " 'Adventure Children Fantasy',\n",
       " 'Adventure Children Fantasy',\n",
       " 'Adventure Children Fantasy',\n",
       " 'Adventure Children Fantasy',\n",
       " 'Adventure Children Fantasy',\n",
       " 'Adventure Children Fantasy',\n",
       " 'Adventure Children Fantasy',\n",
       " 'Adventure Children Fantasy',\n",
       " 'Adventure Children Fantasy',\n",
       " 'Adventure Children Fantasy',\n",
       " 'Adventure Children Fantasy',\n",
       " 'Adventure Children Fantasy',\n",
       " 'Adventure Children Fantasy',\n",
       " 'Adventure Children Fantasy',\n",
       " 'Adventure Children Fantasy',\n",
       " 'Adventure Children Fantasy',\n",
       " 'Adventure Children Fantasy',\n",
       " 'Adventure Children Fantasy',\n",
       " 'Adventure Children Fantasy',\n",
       " 'Adventure Children Fantasy',\n",
       " 'Adventure Children Fantasy',\n",
       " 'Adventure Children Fantasy',\n",
       " 'Adventure Children Fantasy',\n",
       " 'Adventure Children Fantasy',\n",
       " 'Adventure Children Fantasy',\n",
       " 'Adventure Children Fantasy',\n",
       " 'Adventure Children Fantasy',\n",
       " 'Adventure Children Fantasy',\n",
       " 'Adventure Children Fantasy',\n",
       " 'Adventure Children Fantasy',\n",
       " 'Adventure Children Fantasy',\n",
       " 'Adventure Children Fantasy',\n",
       " 'Adventure Children Fantasy',\n",
       " 'Adventure Children Fantasy',\n",
       " 'Adventure Children Fantasy',\n",
       " 'Adventure Children Fantasy',\n",
       " 'Adventure Children Fantasy',\n",
       " 'Adventure Children Fantasy',\n",
       " 'Adventure Children Fantasy',\n",
       " 'Adventure Children Fantasy',\n",
       " 'Adventure Children Fantasy',\n",
       " 'Adventure Children Fantasy',\n",
       " 'Adventure Children Fantasy',\n",
       " 'Adventure Children Fantasy',\n",
       " 'Adventure Children Fantasy',\n",
       " 'Adventure Children Fantasy',\n",
       " 'Adventure Children Fantasy',\n",
       " 'Adventure Children Fantasy',\n",
       " 'Adventure Children Fantasy',\n",
       " 'Adventure Children Fantasy',\n",
       " 'Adventure Children Fantasy',\n",
       " 'Adventure Children Fantasy',\n",
       " 'Adventure Children Fantasy',\n",
       " 'Adventure Children Fantasy',\n",
       " 'Adventure Children Fantasy',\n",
       " 'Adventure Children Fantasy',\n",
       " 'Adventure Children Fantasy',\n",
       " 'Adventure Children Fantasy',\n",
       " 'Adventure Children Fantasy',\n",
       " 'Adventure Children Fantasy',\n",
       " 'Adventure Children Fantasy',\n",
       " 'Adventure Children Fantasy',\n",
       " 'Adventure Children Fantasy',\n",
       " 'Adventure Children Fantasy',\n",
       " 'Adventure Children Fantasy',\n",
       " 'Adventure Children Fantasy',\n",
       " 'Adventure Children Fantasy',\n",
       " 'Adventure Children Fantasy',\n",
       " 'Adventure Children Fantasy',\n",
       " 'Adventure Children Fantasy',\n",
       " 'Adventure Children Fantasy',\n",
       " 'Adventure Children Fantasy',\n",
       " 'Adventure Children Fantasy',\n",
       " 'Adventure Children Fantasy',\n",
       " 'Adventure Children Fantasy',\n",
       " 'Adventure Children Fantasy',\n",
       " 'Adventure Children Fantasy',\n",
       " 'Adventure Children Fantasy',\n",
       " 'Adventure Children Fantasy',\n",
       " 'Adventure Children Fantasy',\n",
       " 'Comedy Romance',\n",
       " 'Comedy Romance',\n",
       " 'Comedy Romance',\n",
       " 'Comedy Romance',\n",
       " 'Comedy Romance',\n",
       " 'Comedy Romance',\n",
       " 'Comedy Romance',\n",
       " 'Comedy Romance',\n",
       " 'Comedy Romance',\n",
       " 'Comedy Romance',\n",
       " 'Comedy Romance',\n",
       " 'Comedy Romance',\n",
       " 'Comedy Romance',\n",
       " 'Comedy Romance',\n",
       " 'Comedy Romance',\n",
       " 'Comedy Romance',\n",
       " 'Comedy Romance',\n",
       " 'Comedy Romance',\n",
       " 'Comedy Romance',\n",
       " 'Comedy Romance',\n",
       " 'Comedy Romance',\n",
       " 'Comedy Romance',\n",
       " 'Comedy Romance',\n",
       " 'Comedy Romance',\n",
       " 'Comedy Romance',\n",
       " 'Comedy Romance',\n",
       " 'Comedy Romance',\n",
       " 'Comedy Romance',\n",
       " 'Comedy Romance',\n",
       " 'Comedy Romance',\n",
       " 'Comedy Romance',\n",
       " 'Comedy Romance',\n",
       " 'Comedy Romance',\n",
       " 'Comedy Romance',\n",
       " 'Comedy Romance',\n",
       " 'Comedy Romance',\n",
       " 'Comedy Romance',\n",
       " 'Comedy Romance',\n",
       " 'Comedy Romance',\n",
       " 'Comedy Romance',\n",
       " 'Comedy Romance',\n",
       " 'Comedy Romance',\n",
       " 'Comedy Romance',\n",
       " 'Comedy Romance',\n",
       " 'Comedy Romance',\n",
       " 'Comedy Romance',\n",
       " 'Comedy Romance',\n",
       " 'Comedy Romance',\n",
       " 'Comedy Romance',\n",
       " 'Comedy Romance',\n",
       " 'Comedy Romance',\n",
       " 'Comedy Romance',\n",
       " 'Comedy Drama Romance',\n",
       " 'Comedy Drama Romance',\n",
       " 'Comedy Drama Romance',\n",
       " 'Comedy Drama Romance',\n",
       " 'Comedy Drama Romance',\n",
       " 'Comedy Drama Romance',\n",
       " 'Comedy Drama Romance',\n",
       " 'Comedy',\n",
       " 'Comedy',\n",
       " 'Comedy',\n",
       " 'Comedy',\n",
       " 'Comedy',\n",
       " 'Comedy',\n",
       " 'Comedy',\n",
       " 'Comedy',\n",
       " 'Comedy',\n",
       " 'Comedy',\n",
       " 'Comedy',\n",
       " 'Comedy',\n",
       " 'Comedy',\n",
       " 'Comedy',\n",
       " 'Comedy',\n",
       " 'Comedy',\n",
       " 'Comedy',\n",
       " 'Comedy',\n",
       " 'Comedy',\n",
       " 'Comedy',\n",
       " 'Comedy',\n",
       " 'Comedy',\n",
       " 'Comedy',\n",
       " 'Comedy',\n",
       " 'Comedy',\n",
       " 'Comedy',\n",
       " 'Comedy',\n",
       " 'Comedy',\n",
       " 'Comedy',\n",
       " 'Comedy',\n",
       " 'Comedy',\n",
       " 'Comedy',\n",
       " 'Comedy',\n",
       " 'Comedy',\n",
       " 'Comedy',\n",
       " 'Comedy',\n",
       " 'Comedy',\n",
       " 'Comedy',\n",
       " 'Comedy',\n",
       " 'Comedy',\n",
       " 'Comedy',\n",
       " 'Comedy',\n",
       " 'Comedy',\n",
       " 'Comedy',\n",
       " 'Comedy',\n",
       " 'Comedy',\n",
       " 'Comedy',\n",
       " 'Comedy',\n",
       " 'Comedy',\n",
       " 'Action Crime Thriller',\n",
       " 'Action Crime Thriller',\n",
       " 'Action Crime Thriller',\n",
       " 'Action Crime Thriller',\n",
       " 'Action Crime Thriller',\n",
       " 'Action Crime Thriller',\n",
       " 'Action Crime Thriller',\n",
       " 'Action Crime Thriller',\n",
       " 'Action Crime Thriller',\n",
       " 'Action Crime Thriller',\n",
       " 'Action Crime Thriller',\n",
       " 'Action Crime Thriller',\n",
       " 'Action Crime Thriller',\n",
       " 'Action Crime Thriller',\n",
       " 'Action Crime Thriller',\n",
       " 'Action Crime Thriller',\n",
       " 'Action Crime Thriller',\n",
       " 'Action Crime Thriller',\n",
       " 'Action Crime Thriller',\n",
       " 'Action Crime Thriller',\n",
       " 'Action Crime Thriller',\n",
       " 'Action Crime Thriller',\n",
       " 'Action Crime Thriller',\n",
       " 'Action Crime Thriller',\n",
       " 'Action Crime Thriller',\n",
       " 'Action Crime Thriller',\n",
       " 'Action Crime Thriller',\n",
       " 'Action Crime Thriller',\n",
       " 'Action Crime Thriller',\n",
       " 'Action Crime Thriller',\n",
       " 'Action Crime Thriller',\n",
       " 'Action Crime Thriller',\n",
       " 'Action Crime Thriller',\n",
       " 'Action Crime Thriller',\n",
       " 'Action Crime Thriller',\n",
       " 'Action Crime Thriller',\n",
       " 'Action Crime Thriller',\n",
       " 'Action Crime Thriller',\n",
       " 'Action Crime Thriller',\n",
       " 'Action Crime Thriller',\n",
       " 'Action Crime Thriller',\n",
       " 'Action Crime Thriller',\n",
       " 'Action Crime Thriller',\n",
       " 'Action Crime Thriller',\n",
       " 'Action Crime Thriller',\n",
       " 'Action Crime Thriller',\n",
       " 'Action Crime Thriller',\n",
       " 'Action Crime Thriller',\n",
       " 'Action Crime Thriller',\n",
       " 'Action Crime Thriller',\n",
       " 'Action Crime Thriller',\n",
       " 'Action Crime Thriller',\n",
       " 'Action Crime Thriller',\n",
       " 'Action Crime Thriller',\n",
       " 'Action Crime Thriller',\n",
       " 'Action Crime Thriller',\n",
       " 'Action Crime Thriller',\n",
       " 'Action Crime Thriller',\n",
       " 'Action Crime Thriller',\n",
       " 'Action Crime Thriller',\n",
       " 'Action Crime Thriller',\n",
       " 'Action Crime Thriller',\n",
       " 'Action Crime Thriller',\n",
       " 'Action Crime Thriller',\n",
       " 'Action Crime Thriller',\n",
       " 'Action Crime Thriller',\n",
       " 'Action Crime Thriller',\n",
       " 'Action Crime Thriller',\n",
       " 'Action Crime Thriller',\n",
       " 'Action Crime Thriller',\n",
       " 'Action Crime Thriller',\n",
       " 'Action Crime Thriller',\n",
       " 'Action Crime Thriller',\n",
       " 'Action Crime Thriller',\n",
       " 'Action Crime Thriller',\n",
       " 'Action Crime Thriller',\n",
       " 'Action Crime Thriller',\n",
       " 'Action Crime Thriller',\n",
       " 'Action Crime Thriller',\n",
       " 'Action Crime Thriller',\n",
       " 'Action Crime Thriller',\n",
       " 'Action Crime Thriller',\n",
       " 'Action Crime Thriller',\n",
       " 'Action Crime Thriller',\n",
       " 'Action Crime Thriller',\n",
       " 'Action Crime Thriller',\n",
       " 'Action Crime Thriller',\n",
       " 'Action Crime Thriller',\n",
       " 'Action Crime Thriller',\n",
       " 'Action Crime Thriller',\n",
       " 'Action Crime Thriller',\n",
       " 'Action Crime Thriller',\n",
       " 'Action Crime Thriller',\n",
       " 'Action Crime Thriller',\n",
       " 'Action Crime Thriller',\n",
       " 'Action Crime Thriller',\n",
       " 'Action Crime Thriller',\n",
       " 'Action Crime Thriller',\n",
       " 'Action Crime Thriller',\n",
       " 'Action Crime Thriller',\n",
       " 'Action Crime Thriller',\n",
       " 'Action Crime Thriller',\n",
       " 'Comedy Romance',\n",
       " 'Comedy Romance',\n",
       " 'Comedy Romance',\n",
       " 'Comedy Romance',\n",
       " 'Comedy Romance',\n",
       " 'Comedy Romance',\n",
       " 'Comedy Romance',\n",
       " 'Comedy Romance',\n",
       " 'Comedy Romance',\n",
       " 'Comedy Romance',\n",
       " 'Comedy Romance',\n",
       " 'Comedy Romance',\n",
       " 'Comedy Romance',\n",
       " 'Comedy Romance',\n",
       " 'Comedy Romance',\n",
       " 'Comedy Romance',\n",
       " 'Comedy Romance',\n",
       " 'Comedy Romance',\n",
       " 'Comedy Romance',\n",
       " 'Comedy Romance',\n",
       " 'Comedy Romance',\n",
       " 'Comedy Romance',\n",
       " 'Comedy Romance',\n",
       " 'Comedy Romance',\n",
       " 'Comedy Romance',\n",
       " 'Comedy Romance',\n",
       " 'Comedy Romance',\n",
       " 'Comedy Romance',\n",
       " 'Comedy Romance',\n",
       " 'Comedy Romance',\n",
       " 'Comedy Romance',\n",
       " 'Comedy Romance',\n",
       " 'Comedy Romance',\n",
       " 'Comedy Romance',\n",
       " 'Comedy Romance',\n",
       " 'Comedy Romance',\n",
       " 'Comedy Romance',\n",
       " 'Comedy Romance',\n",
       " 'Comedy Romance',\n",
       " 'Comedy Romance',\n",
       " 'Comedy Romance',\n",
       " 'Comedy Romance',\n",
       " 'Comedy Romance',\n",
       " 'Comedy Romance',\n",
       " 'Comedy Romance',\n",
       " 'Comedy Romance',\n",
       " 'Comedy Romance',\n",
       " 'Comedy Romance',\n",
       " 'Comedy Romance',\n",
       " 'Comedy Romance',\n",
       " 'Comedy Romance',\n",
       " 'Comedy Romance',\n",
       " 'Comedy Romance',\n",
       " 'Comedy Romance',\n",
       " 'Adventure Children',\n",
       " 'Adventure Children',\n",
       " 'Adventure Children',\n",
       " 'Adventure Children',\n",
       " 'Adventure Children',\n",
       " 'Adventure Children',\n",
       " 'Adventure Children',\n",
       " 'Adventure Children',\n",
       " 'Action',\n",
       " 'Action',\n",
       " 'Action',\n",
       " 'Action',\n",
       " 'Action',\n",
       " 'Action',\n",
       " 'Action',\n",
       " 'Action',\n",
       " 'Action',\n",
       " 'Action',\n",
       " 'Action',\n",
       " 'Action',\n",
       " 'Action',\n",
       " 'Action',\n",
       " 'Action',\n",
       " 'Action',\n",
       " 'Action Adventure Thriller',\n",
       " 'Action Adventure Thriller',\n",
       " 'Action Adventure Thriller',\n",
       " 'Action Adventure Thriller',\n",
       " 'Action Adventure Thriller',\n",
       " 'Action Adventure Thriller',\n",
       " 'Action Adventure Thriller',\n",
       " 'Action Adventure Thriller',\n",
       " 'Action Adventure Thriller',\n",
       " 'Action Adventure Thriller',\n",
       " 'Action Adventure Thriller',\n",
       " 'Action Adventure Thriller',\n",
       " 'Action Adventure Thriller',\n",
       " 'Action Adventure Thriller',\n",
       " 'Action Adventure Thriller',\n",
       " 'Action Adventure Thriller',\n",
       " 'Action Adventure Thriller',\n",
       " 'Action Adventure Thriller',\n",
       " 'Action Adventure Thriller',\n",
       " 'Action Adventure Thriller',\n",
       " 'Action Adventure Thriller',\n",
       " 'Action Adventure Thriller',\n",
       " 'Action Adventure Thriller',\n",
       " 'Action Adventure Thriller',\n",
       " 'Action Adventure Thriller',\n",
       " 'Action Adventure Thriller',\n",
       " 'Action Adventure Thriller',\n",
       " 'Action Adventure Thriller',\n",
       " 'Action Adventure Thriller',\n",
       " 'Action Adventure Thriller',\n",
       " 'Action Adventure Thriller',\n",
       " 'Action Adventure Thriller',\n",
       " 'Action Adventure Thriller',\n",
       " 'Action Adventure Thriller',\n",
       " 'Action Adventure Thriller',\n",
       " 'Action Adventure Thriller',\n",
       " 'Action Adventure Thriller',\n",
       " 'Action Adventure Thriller',\n",
       " 'Action Adventure Thriller',\n",
       " 'Action Adventure Thriller',\n",
       " 'Action Adventure Thriller',\n",
       " 'Action Adventure Thriller',\n",
       " 'Action Adventure Thriller',\n",
       " 'Action Adventure Thriller',\n",
       " 'Action Adventure Thriller',\n",
       " 'Action Adventure Thriller',\n",
       " 'Action Adventure Thriller',\n",
       " 'Action Adventure Thriller',\n",
       " 'Action Adventure Thriller',\n",
       " 'Action Adventure Thriller',\n",
       " 'Action Adventure Thriller',\n",
       " 'Action Adventure Thriller',\n",
       " 'Action Adventure Thriller',\n",
       " 'Action Adventure Thriller',\n",
       " 'Action Adventure Thriller',\n",
       " 'Action Adventure Thriller',\n",
       " 'Action Adventure Thriller',\n",
       " 'Action Adventure Thriller',\n",
       " 'Action Adventure Thriller',\n",
       " 'Action Adventure Thriller',\n",
       " 'Action Adventure Thriller',\n",
       " 'Action Adventure Thriller',\n",
       " 'Action Adventure Thriller',\n",
       " 'Action Adventure Thriller',\n",
       " 'Action Adventure Thriller',\n",
       " 'Action Adventure Thriller',\n",
       " 'Action Adventure Thriller',\n",
       " 'Action Adventure Thriller',\n",
       " 'Action Adventure Thriller',\n",
       " 'Action Adventure Thriller',\n",
       " 'Action Adventure Thriller',\n",
       " 'Action Adventure Thriller',\n",
       " 'Action Adventure Thriller',\n",
       " 'Action Adventure Thriller',\n",
       " 'Action Adventure Thriller',\n",
       " 'Action Adventure Thriller',\n",
       " 'Action Adventure Thriller',\n",
       " 'Action Adventure Thriller',\n",
       " 'Action Adventure Thriller',\n",
       " 'Action Adventure Thriller',\n",
       " 'Action Adventure Thriller',\n",
       " 'Action Adventure Thriller',\n",
       " 'Action Adventure Thriller',\n",
       " 'Action Adventure Thriller',\n",
       " 'Action Adventure Thriller',\n",
       " 'Action Adventure Thriller',\n",
       " 'Action Adventure Thriller',\n",
       " 'Action Adventure Thriller',\n",
       " 'Action Adventure Thriller',\n",
       " 'Action Adventure Thriller',\n",
       " 'Action Adventure Thriller',\n",
       " 'Action Adventure Thriller',\n",
       " 'Action Adventure Thriller',\n",
       " 'Action Adventure Thriller',\n",
       " 'Action Adventure Thriller',\n",
       " 'Action Adventure Thriller',\n",
       " 'Action Adventure Thriller',\n",
       " 'Action Adventure Thriller',\n",
       " 'Action Adventure Thriller',\n",
       " 'Action Adventure Thriller',\n",
       " 'Action Adventure Thriller',\n",
       " 'Action Adventure Thriller',\n",
       " 'Action Adventure Thriller',\n",
       " 'Action Adventure Thriller',\n",
       " 'Action Adventure Thriller',\n",
       " 'Action Adventure Thriller',\n",
       " 'Action Adventure Thriller',\n",
       " 'Action Adventure Thriller',\n",
       " 'Action Adventure Thriller',\n",
       " 'Action Adventure Thriller',\n",
       " 'Action Adventure Thriller',\n",
       " 'Action Adventure Thriller',\n",
       " 'Action Adventure Thriller',\n",
       " 'Action Adventure Thriller',\n",
       " 'Action Adventure Thriller',\n",
       " 'Action Adventure Thriller',\n",
       " 'Action Adventure Thriller',\n",
       " 'Action Adventure Thriller',\n",
       " 'Action Adventure Thriller',\n",
       " 'Action Adventure Thriller',\n",
       " 'Action Adventure Thriller',\n",
       " 'Action Adventure Thriller',\n",
       " 'Action Adventure Thriller',\n",
       " 'Action Adventure Thriller',\n",
       " 'Action Adventure Thriller',\n",
       " 'Action Adventure Thriller',\n",
       " 'Action Adventure Thriller',\n",
       " 'Action Adventure Thriller',\n",
       " 'Action Adventure Thriller',\n",
       " 'Action Adventure Thriller',\n",
       " 'Action Adventure Thriller',\n",
       " 'Action Adventure Thriller',\n",
       " 'Comedy Drama Romance',\n",
       " 'Comedy Drama Romance',\n",
       " 'Comedy Drama Romance',\n",
       " 'Comedy Drama Romance',\n",
       " 'Comedy Drama Romance',\n",
       " 'Comedy Drama Romance',\n",
       " 'Comedy Drama Romance',\n",
       " 'Comedy Drama Romance',\n",
       " 'Comedy Drama Romance',\n",
       " 'Comedy Drama Romance',\n",
       " 'Comedy Drama Romance',\n",
       " 'Comedy Drama Romance',\n",
       " 'Comedy Drama Romance',\n",
       " 'Comedy Drama Romance',\n",
       " 'Comedy Drama Romance',\n",
       " 'Comedy Drama Romance',\n",
       " 'Comedy Drama Romance',\n",
       " 'Comedy Drama Romance',\n",
       " 'Comedy Drama Romance',\n",
       " 'Comedy Drama Romance',\n",
       " 'Comedy Drama Romance',\n",
       " 'Comedy Drama Romance',\n",
       " 'Comedy Drama Romance',\n",
       " 'Comedy Drama Romance',\n",
       " 'Comedy Drama Romance',\n",
       " 'Comedy Drama Romance',\n",
       " 'Comedy Drama Romance',\n",
       " 'Comedy Drama Romance',\n",
       " 'Comedy Drama Romance',\n",
       " 'Comedy Drama Romance',\n",
       " 'Comedy Drama Romance',\n",
       " 'Comedy Drama Romance',\n",
       " 'Comedy Drama Romance',\n",
       " 'Comedy Drama Romance',\n",
       " 'Comedy Drama Romance',\n",
       " 'Comedy Drama Romance',\n",
       " 'Comedy Drama Romance',\n",
       " 'Comedy Drama Romance',\n",
       " 'Comedy Drama Romance',\n",
       " 'Comedy Drama Romance',\n",
       " 'Comedy Drama Romance',\n",
       " 'Comedy Drama Romance',\n",
       " 'Comedy Drama Romance',\n",
       " 'Comedy Drama Romance',\n",
       " 'Comedy Drama Romance',\n",
       " 'Comedy Drama Romance',\n",
       " 'Comedy Drama Romance',\n",
       " 'Comedy Drama Romance',\n",
       " 'Comedy Drama Romance',\n",
       " 'Comedy Drama Romance',\n",
       " 'Comedy Drama Romance',\n",
       " 'Comedy Drama Romance',\n",
       " 'Comedy Drama Romance',\n",
       " 'Comedy Drama Romance',\n",
       " 'Comedy Drama Romance',\n",
       " 'Comedy Drama Romance',\n",
       " 'Comedy Drama Romance',\n",
       " 'Comedy Drama Romance',\n",
       " 'Comedy Drama Romance',\n",
       " 'Comedy Drama Romance',\n",
       " 'Comedy Drama Romance',\n",
       " 'Comedy Drama Romance',\n",
       " 'Comedy Drama Romance',\n",
       " 'Comedy Drama Romance',\n",
       " 'Comedy Drama Romance',\n",
       " 'Comedy Drama Romance',\n",
       " 'Comedy Drama Romance',\n",
       " 'Comedy Drama Romance',\n",
       " 'Comedy Drama Romance',\n",
       " 'Comedy Drama Romance',\n",
       " 'Comedy Horror',\n",
       " 'Comedy Horror',\n",
       " 'Comedy Horror',\n",
       " 'Comedy Horror',\n",
       " 'Comedy Horror',\n",
       " 'Comedy Horror',\n",
       " 'Comedy Horror',\n",
       " 'Comedy Horror',\n",
       " 'Comedy Horror',\n",
       " 'Comedy Horror',\n",
       " 'Comedy Horror',\n",
       " 'Comedy Horror',\n",
       " 'Comedy Horror',\n",
       " 'Comedy Horror',\n",
       " 'Comedy Horror',\n",
       " 'Comedy Horror',\n",
       " 'Comedy Horror',\n",
       " 'Comedy Horror',\n",
       " 'Comedy Horror',\n",
       " 'Adventure Animation Children',\n",
       " 'Adventure Animation Children',\n",
       " 'Adventure Animation Children',\n",
       " 'Adventure Animation Children',\n",
       " 'Adventure Animation Children',\n",
       " 'Adventure Animation Children',\n",
       " 'Adventure Animation Children',\n",
       " 'Adventure Animation Children',\n",
       " 'Drama',\n",
       " 'Drama',\n",
       " 'Drama',\n",
       " 'Drama',\n",
       " 'Drama',\n",
       " 'Drama',\n",
       " 'Drama',\n",
       " 'Drama',\n",
       " 'Drama',\n",
       " 'Drama',\n",
       " 'Drama',\n",
       " 'Drama',\n",
       " 'Drama',\n",
       " 'Drama',\n",
       " 'Drama',\n",
       " 'Drama',\n",
       " 'Drama',\n",
       " 'Drama',\n",
       " 'Action Adventure Romance',\n",
       " 'Action Adventure Romance',\n",
       " 'Action Adventure Romance',\n",
       " 'Action Adventure Romance',\n",
       " 'Action Adventure Romance',\n",
       " 'Action Adventure Romance',\n",
       " 'Action Adventure Romance',\n",
       " 'Action Adventure Romance',\n",
       " 'Action Adventure Romance',\n",
       " 'Action Adventure Romance',\n",
       " 'Action Adventure Romance',\n",
       " 'Action Adventure Romance',\n",
       " 'Action Adventure Romance',\n",
       " 'Crime Drama',\n",
       " 'Crime Drama',\n",
       " 'Crime Drama',\n",
       " 'Crime Drama',\n",
       " 'Crime Drama',\n",
       " 'Crime Drama',\n",
       " 'Crime Drama',\n",
       " 'Crime Drama',\n",
       " 'Crime Drama',\n",
       " 'Crime Drama',\n",
       " 'Crime Drama',\n",
       " 'Crime Drama',\n",
       " 'Crime Drama',\n",
       " 'Crime Drama',\n",
       " 'Crime Drama',\n",
       " 'Crime Drama',\n",
       " 'Crime Drama',\n",
       " 'Crime Drama',\n",
       " 'Crime Drama',\n",
       " 'Crime Drama',\n",
       " 'Crime Drama',\n",
       " 'Crime Drama',\n",
       " 'Crime Drama',\n",
       " 'Crime Drama',\n",
       " 'Crime Drama',\n",
       " 'Crime Drama',\n",
       " 'Crime Drama',\n",
       " 'Crime Drama',\n",
       " 'Crime Drama',\n",
       " 'Crime Drama',\n",
       " 'Crime Drama',\n",
       " 'Crime Drama',\n",
       " 'Crime Drama',\n",
       " 'Crime Drama',\n",
       " 'Crime Drama',\n",
       " 'Crime Drama',\n",
       " 'Crime Drama',\n",
       " 'Crime Drama',\n",
       " 'Crime Drama',\n",
       " 'Crime Drama',\n",
       " 'Crime Drama',\n",
       " 'Crime Drama',\n",
       " 'Crime Drama',\n",
       " 'Crime Drama',\n",
       " 'Crime Drama',\n",
       " 'Crime Drama',\n",
       " 'Crime Drama',\n",
       " 'Crime Drama',\n",
       " 'Crime Drama',\n",
       " 'Crime Drama',\n",
       " 'Crime Drama',\n",
       " 'Crime Drama',\n",
       " 'Crime Drama',\n",
       " 'Crime Drama',\n",
       " 'Crime Drama',\n",
       " 'Crime Drama',\n",
       " 'Crime Drama',\n",
       " 'Crime Drama',\n",
       " 'Crime Drama',\n",
       " 'Crime Drama',\n",
       " 'Crime Drama',\n",
       " 'Crime Drama',\n",
       " 'Crime Drama',\n",
       " 'Crime Drama',\n",
       " 'Crime Drama',\n",
       " 'Crime Drama',\n",
       " 'Crime Drama',\n",
       " 'Crime Drama',\n",
       " 'Crime Drama',\n",
       " 'Crime Drama',\n",
       " 'Crime Drama',\n",
       " 'Crime Drama',\n",
       " 'Crime Drama',\n",
       " 'Crime Drama',\n",
       " 'Crime Drama',\n",
       " 'Crime Drama',\n",
       " 'Crime Drama',\n",
       " 'Crime Drama',\n",
       " 'Crime Drama',\n",
       " 'Crime Drama',\n",
       " 'Crime Drama',\n",
       " 'Crime Drama',\n",
       " 'Drama Romance',\n",
       " 'Drama Romance',\n",
       " 'Drama Romance',\n",
       " 'Drama Romance',\n",
       " 'Drama Romance',\n",
       " 'Drama Romance',\n",
       " 'Drama Romance',\n",
       " 'Drama Romance',\n",
       " 'Drama Romance',\n",
       " 'Drama Romance',\n",
       " 'Drama Romance',\n",
       " 'Drama Romance',\n",
       " 'Drama Romance',\n",
       " 'Drama Romance',\n",
       " 'Drama Romance',\n",
       " 'Drama Romance',\n",
       " 'Drama Romance',\n",
       " 'Drama Romance',\n",
       " 'Drama Romance',\n",
       " 'Drama Romance',\n",
       " 'Drama Romance',\n",
       " 'Drama Romance',\n",
       " 'Drama Romance',\n",
       " 'Drama Romance',\n",
       " 'Drama Romance',\n",
       " 'Drama Romance',\n",
       " 'Drama Romance',\n",
       " 'Drama Romance',\n",
       " 'Drama Romance',\n",
       " 'Drama Romance',\n",
       " 'Drama Romance',\n",
       " 'Drama Romance',\n",
       " 'Drama Romance',\n",
       " 'Drama Romance',\n",
       " 'Drama Romance',\n",
       " 'Drama Romance',\n",
       " 'Drama Romance',\n",
       " 'Drama Romance',\n",
       " 'Drama Romance',\n",
       " 'Drama Romance',\n",
       " 'Drama Romance',\n",
       " 'Drama Romance',\n",
       " 'Drama Romance',\n",
       " 'Drama Romance',\n",
       " 'Drama Romance',\n",
       " ...]"
      ]
     },
     "execution_count": 11,
     "metadata": {},
     "output_type": "execute_result"
    }
   ],
   "source": [
    "movie_genres"
   ]
  },
  {
   "cell_type": "code",
   "execution_count": 12,
   "metadata": {},
   "outputs": [],
   "source": [
    "count_vect = CountVectorizer()\n",
    "X_train_counts = count_vect.fit_transform(movie_genres)"
   ]
  },
  {
   "cell_type": "code",
   "execution_count": 13,
   "metadata": {
    "scrolled": false
   },
   "outputs": [
    {
     "data": {
      "text/plain": [
       "['action',\n",
       " 'adventure',\n",
       " 'animation',\n",
       " 'children',\n",
       " 'comedy',\n",
       " 'crime',\n",
       " 'documentary',\n",
       " 'drama',\n",
       " 'fantasy',\n",
       " 'filmnoir',\n",
       " 'horror',\n",
       " 'imax',\n",
       " 'musical',\n",
       " 'mystery',\n",
       " 'nogenreslisted',\n",
       " 'romance',\n",
       " 'scifi',\n",
       " 'thriller',\n",
       " 'war',\n",
       " 'western']"
      ]
     },
     "execution_count": 13,
     "metadata": {},
     "output_type": "execute_result"
    }
   ],
   "source": [
    "count_vect.get_feature_names()"
   ]
  },
  {
   "cell_type": "code",
   "execution_count": 14,
   "metadata": {},
   "outputs": [
    {
     "name": "stdout",
     "output_type": "stream",
     "text": [
      "(100836, 20)\n"
     ]
    }
   ],
   "source": [
    "print(X_train_counts.shape)"
   ]
  },
  {
   "cell_type": "code",
   "execution_count": 15,
   "metadata": {},
   "outputs": [],
   "source": [
    "X = X_train_counts.toarray()"
   ]
  },
  {
   "cell_type": "code",
   "execution_count": 16,
   "metadata": {},
   "outputs": [],
   "source": [
    "y = movies_with_ratings.rating"
   ]
  },
  {
   "cell_type": "code",
   "execution_count": 17,
   "metadata": {},
   "outputs": [],
   "source": [
    "X_tr, X_ts, y_tr, y_ts = train_test_split(X_train_counts.toarray(),y,test_size = 0.15)"
   ]
  },
  {
   "cell_type": "code",
   "execution_count": 18,
   "metadata": {},
   "outputs": [],
   "source": [
    "knr = KNeighborsRegressor(n_neighbors=15,n_jobs = -1, metric = 'euclidean')"
   ]
  },
  {
   "cell_type": "code",
   "execution_count": 19,
   "metadata": {},
   "outputs": [
    {
     "data": {
      "text/plain": [
       "KNeighborsRegressor(metric='euclidean', n_jobs=-1, n_neighbors=15)"
      ]
     },
     "execution_count": 19,
     "metadata": {},
     "output_type": "execute_result"
    }
   ],
   "source": [
    "knr.fit(X_tr, y_tr)"
   ]
  },
  {
   "cell_type": "code",
   "execution_count": 20,
   "metadata": {},
   "outputs": [
    {
     "data": {
      "text/plain": [
       "array([3.3       , 3.33333333, 4.3       , ..., 2.86666667, 3.76666667,\n",
       "       3.9       ])"
      ]
     },
     "execution_count": 20,
     "metadata": {},
     "output_type": "execute_result"
    }
   ],
   "source": [
    "knr.predict(X_ts)"
   ]
  },
  {
   "cell_type": "code",
   "execution_count": 21,
   "metadata": {},
   "outputs": [
    {
     "data": {
      "text/plain": [
       "0.036363906151951064"
      ]
     },
     "execution_count": 21,
     "metadata": {},
     "output_type": "execute_result"
    }
   ],
   "source": [
    "knr.score(X_tr,y_tr)"
   ]
  },
  {
   "cell_type": "code",
   "execution_count": 22,
   "metadata": {},
   "outputs": [
    {
     "name": "stderr",
     "output_type": "stream",
     "text": [
      "[Parallel(n_jobs=1)]: Using backend SequentialBackend with 1 concurrent workers.\n",
      "[Parallel(n_jobs=1)]: Done   5 out of   5 | elapsed:   23.1s finished\n"
     ]
    }
   ],
   "source": [
    "scores = cross_val_score(knr, X, y, cv=5, verbose=True)"
   ]
  },
  {
   "cell_type": "code",
   "execution_count": 23,
   "metadata": {},
   "outputs": [
    {
     "name": "stdout",
     "output_type": "stream",
     "text": [
      "[-0.21066185 -0.15851144 -0.07452149 -0.14748643 -0.13581015]\n"
     ]
    }
   ],
   "source": [
    "print(scores)"
   ]
  },
  {
   "cell_type": "code",
   "execution_count": 24,
   "metadata": {},
   "outputs": [],
   "source": [
    "tfidf_transformer = TfidfTransformer()"
   ]
  },
  {
   "cell_type": "code",
   "execution_count": 25,
   "metadata": {},
   "outputs": [],
   "source": [
    "X_train_tfidf = tfidf_transformer.fit_transform(X_train_counts)"
   ]
  },
  {
   "cell_type": "code",
   "execution_count": 26,
   "metadata": {},
   "outputs": [
    {
     "name": "stdout",
     "output_type": "stream",
     "text": [
      "[[0.         0.36388502 0.54973521 ... 0.         0.         0.        ]\n",
      " [0.         0.36388502 0.54973521 ... 0.         0.         0.        ]\n",
      " [0.         0.36388502 0.54973521 ... 0.         0.         0.        ]\n",
      " ...\n",
      " [0.         0.         0.         ... 0.         0.         0.        ]\n",
      " [0.51274474 0.         0.85854111 ... 0.         0.         0.        ]\n",
      " [0.         0.         0.         ... 0.         0.         0.        ]]\n"
     ]
    }
   ],
   "source": [
    "print(X_train_tfidf.toarray())"
   ]
  },
  {
   "cell_type": "code",
   "execution_count": 27,
   "metadata": {},
   "outputs": [
    {
     "data": {
      "text/plain": [
       "NearestNeighbors(metric='euclidean', n_jobs=-1, n_neighbors=7)"
      ]
     },
     "execution_count": 27,
     "metadata": {},
     "output_type": "execute_result"
    }
   ],
   "source": [
    "neigh = NearestNeighbors(n_neighbors = 7, n_jobs = -1, metric = 'euclidean')\n",
    "neigh.fit(X_train_tfidf)"
   ]
  },
  {
   "cell_type": "code",
   "execution_count": 28,
   "metadata": {},
   "outputs": [],
   "source": [
    "test = change_string(\"Comedy|Drama|Romance\")\n",
    "\n",
    "predict = count_vect.transform([test])\n",
    "X_tfidf2 = tfidf_transformer.transform(predict)\n",
    "\n",
    "res = neigh.kneighbors(X_tfidf2, return_distance=True)"
   ]
  },
  {
   "cell_type": "code",
   "execution_count": 29,
   "metadata": {},
   "outputs": [
    {
     "data": {
      "text/plain": [
       "(array([[0., 0., 0., 0., 0., 0., 0.]]),\n",
       " array([[61012, 61011, 61014, 61013, 61016, 61010, 61017]]))"
      ]
     },
     "execution_count": 29,
     "metadata": {},
     "output_type": "execute_result"
    }
   ],
   "source": [
    "res"
   ]
  },
  {
   "cell_type": "code",
   "execution_count": 30,
   "metadata": {},
   "outputs": [
    {
     "data": {
      "text/html": [
       "<div>\n",
       "<style scoped>\n",
       "    .dataframe tbody tr th:only-of-type {\n",
       "        vertical-align: middle;\n",
       "    }\n",
       "\n",
       "    .dataframe tbody tr th {\n",
       "        vertical-align: top;\n",
       "    }\n",
       "\n",
       "    .dataframe thead th {\n",
       "        text-align: right;\n",
       "    }\n",
       "</style>\n",
       "<table border=\"1\" class=\"dataframe\">\n",
       "  <thead>\n",
       "    <tr style=\"text-align: right;\">\n",
       "      <th></th>\n",
       "      <th>movieId</th>\n",
       "      <th>title</th>\n",
       "      <th>genres</th>\n",
       "      <th>userId</th>\n",
       "      <th>rating</th>\n",
       "      <th>timestamp</th>\n",
       "    </tr>\n",
       "  </thead>\n",
       "  <tbody>\n",
       "    <tr>\n",
       "      <th>61017</th>\n",
       "      <td>4246</td>\n",
       "      <td>Bridget Jones's Diary (2001)</td>\n",
       "      <td>Comedy|Drama|Romance</td>\n",
       "      <td>453.0</td>\n",
       "      <td>5.0</td>\n",
       "      <td>1.005966e+09</td>\n",
       "    </tr>\n",
       "    <tr>\n",
       "      <th>61016</th>\n",
       "      <td>4246</td>\n",
       "      <td>Bridget Jones's Diary (2001)</td>\n",
       "      <td>Comedy|Drama|Romance</td>\n",
       "      <td>418.0</td>\n",
       "      <td>0.5</td>\n",
       "      <td>1.461868e+09</td>\n",
       "    </tr>\n",
       "    <tr>\n",
       "      <th>61019</th>\n",
       "      <td>4246</td>\n",
       "      <td>Bridget Jones's Diary (2001)</td>\n",
       "      <td>Comedy|Drama|Romance</td>\n",
       "      <td>479.0</td>\n",
       "      <td>4.0</td>\n",
       "      <td>1.039367e+09</td>\n",
       "    </tr>\n",
       "    <tr>\n",
       "      <th>61018</th>\n",
       "      <td>4246</td>\n",
       "      <td>Bridget Jones's Diary (2001)</td>\n",
       "      <td>Comedy|Drama|Romance</td>\n",
       "      <td>474.0</td>\n",
       "      <td>4.5</td>\n",
       "      <td>1.053021e+09</td>\n",
       "    </tr>\n",
       "    <tr>\n",
       "      <th>61021</th>\n",
       "      <td>4246</td>\n",
       "      <td>Bridget Jones's Diary (2001)</td>\n",
       "      <td>Comedy|Drama|Romance</td>\n",
       "      <td>483.0</td>\n",
       "      <td>4.0</td>\n",
       "      <td>1.327277e+09</td>\n",
       "    </tr>\n",
       "    <tr>\n",
       "      <th>61015</th>\n",
       "      <td>4246</td>\n",
       "      <td>Bridget Jones's Diary (2001)</td>\n",
       "      <td>Comedy|Drama|Romance</td>\n",
       "      <td>414.0</td>\n",
       "      <td>4.0</td>\n",
       "      <td>1.073682e+09</td>\n",
       "    </tr>\n",
       "    <tr>\n",
       "      <th>61022</th>\n",
       "      <td>4246</td>\n",
       "      <td>Bridget Jones's Diary (2001)</td>\n",
       "      <td>Comedy|Drama|Romance</td>\n",
       "      <td>489.0</td>\n",
       "      <td>5.0</td>\n",
       "      <td>1.332773e+09</td>\n",
       "    </tr>\n",
       "  </tbody>\n",
       "</table>\n",
       "</div>"
      ],
      "text/plain": [
       "       movieId                         title                genres  userId  \\\n",
       "61017     4246  Bridget Jones's Diary (2001)  Comedy|Drama|Romance   453.0   \n",
       "61016     4246  Bridget Jones's Diary (2001)  Comedy|Drama|Romance   418.0   \n",
       "61019     4246  Bridget Jones's Diary (2001)  Comedy|Drama|Romance   479.0   \n",
       "61018     4246  Bridget Jones's Diary (2001)  Comedy|Drama|Romance   474.0   \n",
       "61021     4246  Bridget Jones's Diary (2001)  Comedy|Drama|Romance   483.0   \n",
       "61015     4246  Bridget Jones's Diary (2001)  Comedy|Drama|Romance   414.0   \n",
       "61022     4246  Bridget Jones's Diary (2001)  Comedy|Drama|Romance   489.0   \n",
       "\n",
       "       rating     timestamp  \n",
       "61017     5.0  1.005966e+09  \n",
       "61016     0.5  1.461868e+09  \n",
       "61019     4.0  1.039367e+09  \n",
       "61018     4.5  1.053021e+09  \n",
       "61021     4.0  1.327277e+09  \n",
       "61015     4.0  1.073682e+09  \n",
       "61022     5.0  1.332773e+09  "
      ]
     },
     "execution_count": 30,
     "metadata": {},
     "output_type": "execute_result"
    }
   ],
   "source": [
    "movies_with_ratings.iloc[res[1][0]]"
   ]
  },
  {
   "cell_type": "markdown",
   "metadata": {},
   "source": [
    "Построим рекомендации (регрессия, предсказываем оценку) на TF-IDF по тегам"
   ]
  },
  {
   "cell_type": "code",
   "execution_count": 31,
   "metadata": {},
   "outputs": [],
   "source": [
    "movies_with_tags = movies.join(tags.set_index('movieId'), on='movieId')"
   ]
  },
  {
   "cell_type": "code",
   "execution_count": 32,
   "metadata": {},
   "outputs": [
    {
     "data": {
      "text/html": [
       "<div>\n",
       "<style scoped>\n",
       "    .dataframe tbody tr th:only-of-type {\n",
       "        vertical-align: middle;\n",
       "    }\n",
       "\n",
       "    .dataframe tbody tr th {\n",
       "        vertical-align: top;\n",
       "    }\n",
       "\n",
       "    .dataframe thead th {\n",
       "        text-align: right;\n",
       "    }\n",
       "</style>\n",
       "<table border=\"1\" class=\"dataframe\">\n",
       "  <thead>\n",
       "    <tr style=\"text-align: right;\">\n",
       "      <th></th>\n",
       "      <th>movieId</th>\n",
       "      <th>title</th>\n",
       "      <th>genres</th>\n",
       "      <th>userId</th>\n",
       "      <th>tag</th>\n",
       "      <th>timestamp</th>\n",
       "    </tr>\n",
       "  </thead>\n",
       "  <tbody>\n",
       "    <tr>\n",
       "      <th>0</th>\n",
       "      <td>1</td>\n",
       "      <td>Toy Story (1995)</td>\n",
       "      <td>Adventure|Animation|Children|Comedy|Fantasy</td>\n",
       "      <td>336.0</td>\n",
       "      <td>pixar</td>\n",
       "      <td>1.139046e+09</td>\n",
       "    </tr>\n",
       "    <tr>\n",
       "      <th>0</th>\n",
       "      <td>1</td>\n",
       "      <td>Toy Story (1995)</td>\n",
       "      <td>Adventure|Animation|Children|Comedy|Fantasy</td>\n",
       "      <td>474.0</td>\n",
       "      <td>pixar</td>\n",
       "      <td>1.137207e+09</td>\n",
       "    </tr>\n",
       "    <tr>\n",
       "      <th>0</th>\n",
       "      <td>1</td>\n",
       "      <td>Toy Story (1995)</td>\n",
       "      <td>Adventure|Animation|Children|Comedy|Fantasy</td>\n",
       "      <td>567.0</td>\n",
       "      <td>fun</td>\n",
       "      <td>1.525286e+09</td>\n",
       "    </tr>\n",
       "    <tr>\n",
       "      <th>1</th>\n",
       "      <td>2</td>\n",
       "      <td>Jumanji (1995)</td>\n",
       "      <td>Adventure|Children|Fantasy</td>\n",
       "      <td>62.0</td>\n",
       "      <td>fantasy</td>\n",
       "      <td>1.528844e+09</td>\n",
       "    </tr>\n",
       "    <tr>\n",
       "      <th>1</th>\n",
       "      <td>2</td>\n",
       "      <td>Jumanji (1995)</td>\n",
       "      <td>Adventure|Children|Fantasy</td>\n",
       "      <td>62.0</td>\n",
       "      <td>magic board game</td>\n",
       "      <td>1.528844e+09</td>\n",
       "    </tr>\n",
       "  </tbody>\n",
       "</table>\n",
       "</div>"
      ],
      "text/plain": [
       "   movieId             title                                       genres  \\\n",
       "0        1  Toy Story (1995)  Adventure|Animation|Children|Comedy|Fantasy   \n",
       "0        1  Toy Story (1995)  Adventure|Animation|Children|Comedy|Fantasy   \n",
       "0        1  Toy Story (1995)  Adventure|Animation|Children|Comedy|Fantasy   \n",
       "1        2    Jumanji (1995)                   Adventure|Children|Fantasy   \n",
       "1        2    Jumanji (1995)                   Adventure|Children|Fantasy   \n",
       "\n",
       "   userId               tag     timestamp  \n",
       "0   336.0             pixar  1.139046e+09  \n",
       "0   474.0             pixar  1.137207e+09  \n",
       "0   567.0               fun  1.525286e+09  \n",
       "1    62.0           fantasy  1.528844e+09  \n",
       "1    62.0  magic board game  1.528844e+09  "
      ]
     },
     "execution_count": 32,
     "metadata": {},
     "output_type": "execute_result"
    }
   ],
   "source": [
    "movies_with_tags.head()"
   ]
  },
  {
   "cell_type": "code",
   "execution_count": 33,
   "metadata": {},
   "outputs": [
    {
     "data": {
      "text/html": [
       "<div>\n",
       "<style scoped>\n",
       "    .dataframe tbody tr th:only-of-type {\n",
       "        vertical-align: middle;\n",
       "    }\n",
       "\n",
       "    .dataframe tbody tr th {\n",
       "        vertical-align: top;\n",
       "    }\n",
       "\n",
       "    .dataframe thead th {\n",
       "        text-align: right;\n",
       "    }\n",
       "</style>\n",
       "<table border=\"1\" class=\"dataframe\">\n",
       "  <thead>\n",
       "    <tr style=\"text-align: right;\">\n",
       "      <th></th>\n",
       "      <th>movieId</th>\n",
       "      <th>title</th>\n",
       "      <th>genres</th>\n",
       "      <th>userId</th>\n",
       "      <th>tag</th>\n",
       "      <th>timestamp</th>\n",
       "    </tr>\n",
       "  </thead>\n",
       "  <tbody>\n",
       "    <tr>\n",
       "      <th>1</th>\n",
       "      <td>2</td>\n",
       "      <td>Jumanji (1995)</td>\n",
       "      <td>Adventure|Children|Fantasy</td>\n",
       "      <td>62.0</td>\n",
       "      <td>fantasy</td>\n",
       "      <td>1.528844e+09</td>\n",
       "    </tr>\n",
       "    <tr>\n",
       "      <th>1</th>\n",
       "      <td>2</td>\n",
       "      <td>Jumanji (1995)</td>\n",
       "      <td>Adventure|Children|Fantasy</td>\n",
       "      <td>62.0</td>\n",
       "      <td>magic board game</td>\n",
       "      <td>1.528844e+09</td>\n",
       "    </tr>\n",
       "    <tr>\n",
       "      <th>1</th>\n",
       "      <td>2</td>\n",
       "      <td>Jumanji (1995)</td>\n",
       "      <td>Adventure|Children|Fantasy</td>\n",
       "      <td>62.0</td>\n",
       "      <td>Robin Williams</td>\n",
       "      <td>1.528844e+09</td>\n",
       "    </tr>\n",
       "    <tr>\n",
       "      <th>1</th>\n",
       "      <td>2</td>\n",
       "      <td>Jumanji (1995)</td>\n",
       "      <td>Adventure|Children|Fantasy</td>\n",
       "      <td>474.0</td>\n",
       "      <td>game</td>\n",
       "      <td>1.137376e+09</td>\n",
       "    </tr>\n",
       "  </tbody>\n",
       "</table>\n",
       "</div>"
      ],
      "text/plain": [
       "   movieId           title                      genres  userId  \\\n",
       "1        2  Jumanji (1995)  Adventure|Children|Fantasy    62.0   \n",
       "1        2  Jumanji (1995)  Adventure|Children|Fantasy    62.0   \n",
       "1        2  Jumanji (1995)  Adventure|Children|Fantasy    62.0   \n",
       "1        2  Jumanji (1995)  Adventure|Children|Fantasy   474.0   \n",
       "\n",
       "                tag     timestamp  \n",
       "1           fantasy  1.528844e+09  \n",
       "1  magic board game  1.528844e+09  \n",
       "1    Robin Williams  1.528844e+09  \n",
       "1              game  1.137376e+09  "
      ]
     },
     "execution_count": 33,
     "metadata": {},
     "output_type": "execute_result"
    }
   ],
   "source": [
    "movies_with_tags[movies_with_tags.title == 'Jumanji (1995)']"
   ]
  },
  {
   "cell_type": "code",
   "execution_count": 34,
   "metadata": {},
   "outputs": [
    {
     "data": {
      "text/plain": [
       "array(['pixar', 'fun', 'fantasy', ..., 'star wars', 'gintama', 'remaster'],\n",
       "      dtype=object)"
      ]
     },
     "execution_count": 34,
     "metadata": {},
     "output_type": "execute_result"
    }
   ],
   "source": [
    "movies_with_tags.tag.unique()"
   ]
  },
  {
   "cell_type": "code",
   "execution_count": 35,
   "metadata": {},
   "outputs": [
    {
     "data": {
      "text/plain": [
       "(1590,)"
      ]
     },
     "execution_count": 35,
     "metadata": {},
     "output_type": "execute_result"
    }
   ],
   "source": [
    "movies_with_tags.tag.unique().shape"
   ]
  },
  {
   "cell_type": "code",
   "execution_count": 36,
   "metadata": {},
   "outputs": [],
   "source": [
    "movies_with_tags.dropna(inplace=True)"
   ]
  },
  {
   "cell_type": "code",
   "execution_count": 37,
   "metadata": {},
   "outputs": [
    {
     "data": {
      "text/plain": [
       "(1572,)"
      ]
     },
     "execution_count": 37,
     "metadata": {},
     "output_type": "execute_result"
    }
   ],
   "source": [
    "movies_with_tags.title.unique().shape"
   ]
  },
  {
   "cell_type": "code",
   "execution_count": 38,
   "metadata": {},
   "outputs": [
    {
     "data": {
      "application/vnd.jupyter.widget-view+json": {
       "model_id": "1db12b3a2307437a8945100314f6377e",
       "version_major": 2,
       "version_minor": 0
      },
      "text/plain": [
       "HBox(children=(HTML(value=''), FloatProgress(value=0.0, max=1572.0), HTML(value='')))"
      ]
     },
     "metadata": {},
     "output_type": "display_data"
    },
    {
     "name": "stdout",
     "output_type": "stream",
     "text": [
      "\n"
     ]
    }
   ],
   "source": [
    "tag_strings = []\n",
    "movies = []\n",
    "\n",
    "for movie, group in tqdm(movies_with_tags.groupby('title')):\n",
    "    tag_strings.append(' '.join([str(s).replace(' ', '').replace('-', '') for s in group.tag.values]))\n",
    "    movies.append(movie)"
   ]
  },
  {
   "cell_type": "code",
   "execution_count": 39,
   "metadata": {},
   "outputs": [
    {
     "data": {
      "text/plain": [
       "['artistic Funny humorous inspiring intelligent quirky romance ZooeyDeschanel',\n",
       " 'lawyers',\n",
       " 'creepy suspense',\n",
       " 'Shakespearesortof',\n",
       " 'dogs remake',\n",
       " 'Disney',\n",
       " 'terrorism',\n",
       " 'court claustrophobic confrontational earnest gooddialogue greatscreenplay gritty Motivational thoughtprovoking',\n",
       " 'stranded',\n",
       " 'MarkRuffalo',\n",
       " 'Hal space aliens apes ArthurC.Clarke artificialintelligence atmospheric cinematography classic computer confusingending cultfilm Dull future futuristic imdbtop250 masterpiece meditative music mystery Oscar(BestEffectsVisualEffects) overrated philosophical relaxing revolutionary robots scifi setting:space/spaceship slow slowpaced soundtrack space spacetravel spacecraft StanleyKubrick superbsoundtrack surreal technology tedious visual visuallyappealing',\n",
       " 'DEPRESSING',\n",
       " 'crime nightclub',\n",
       " 'zombies zombies',\n",
       " 'fugitive']"
      ]
     },
     "execution_count": 39,
     "metadata": {},
     "output_type": "execute_result"
    }
   ],
   "source": [
    "tag_strings[:15]"
   ]
  },
  {
   "cell_type": "code",
   "execution_count": 40,
   "metadata": {},
   "outputs": [],
   "source": [
    "count_vect = CountVectorizer()\n",
    "X_train_counts = count_vect.fit_transform(tag_strings)"
   ]
  },
  {
   "cell_type": "code",
   "execution_count": 41,
   "metadata": {},
   "outputs": [],
   "source": [
    "tfidf_transformer = TfidfTransformer()\n",
    "X_train_tfidf = tfidf_transformer.fit_transform(X_train_counts)"
   ]
  },
  {
   "cell_type": "code",
   "execution_count": 42,
   "metadata": {},
   "outputs": [
    {
     "data": {
      "text/plain": [
       "NearestNeighbors(metric='manhattan', n_jobs=-1, n_neighbors=10)"
      ]
     },
     "execution_count": 42,
     "metadata": {},
     "output_type": "execute_result"
    }
   ],
   "source": [
    "neigh = NearestNeighbors(n_neighbors=10, n_jobs=-1, metric='manhattan') \n",
    "neigh.fit(X_train_tfidf)"
   ]
  },
  {
   "cell_type": "code",
   "execution_count": 43,
   "metadata": {},
   "outputs": [
    {
     "name": "stdout",
     "output_type": "stream",
     "text": [
      "712\n"
     ]
    }
   ],
   "source": [
    "for i in range(len(movies)):\n",
    "    if 'Jumanji (1995)' == movies[i]:\n",
    "        print(i)"
   ]
  },
  {
   "cell_type": "code",
   "execution_count": 44,
   "metadata": {},
   "outputs": [
    {
     "data": {
      "text/plain": [
       "'fantasy magicboardgame RobinWilliams game'"
      ]
     },
     "execution_count": 44,
     "metadata": {},
     "output_type": "execute_result"
    }
   ],
   "source": [
    "tag_strings[712]"
   ]
  },
  {
   "cell_type": "code",
   "execution_count": 45,
   "metadata": {},
   "outputs": [],
   "source": [
    "test = change_string(\"lawyers\")\n",
    "\n",
    "predict = count_vect.transform([test])\n",
    "X_tfidf2 = tfidf_transformer.transform(predict)\n",
    "\n",
    "res = neigh.kneighbors(X_tfidf2, return_distance=True)"
   ]
  },
  {
   "cell_type": "code",
   "execution_count": 46,
   "metadata": {},
   "outputs": [
    {
     "data": {
      "text/plain": [
       "(array([[0., 0., 0., 0., 0., 1., 1., 2., 2., 2.]]),\n",
       " array([[   1,  770, 1034, 1376,  771,  661,  822,  951,  949,  953]]))"
      ]
     },
     "execution_count": 46,
     "metadata": {},
     "output_type": "execute_result"
    }
   ],
   "source": [
    "res"
   ]
  },
  {
   "cell_type": "code",
   "execution_count": 47,
   "metadata": {},
   "outputs": [
    {
     "name": "stdout",
     "output_type": "stream",
     "text": [
      "...And Justice for All (1979)\n",
      "Legal Eagles (1986)\n",
      "Pelican Brief, The (1993)\n",
      "The Devil's Advocate (1997)\n",
      "Legally Blonde (2001)\n",
      "In a Lonely Place (1950)\n",
      "Magnolia (1999)\n",
      "Never Been Kissed (1999)\n",
      "Net, The (1995)\n",
      "Niagara (1953)\n"
     ]
    }
   ],
   "source": [
    "for i in res[1][0]:\n",
    "    print(movies[i])"
   ]
  },
  {
   "cell_type": "markdown",
   "metadata": {},
   "source": [
    "Рассчитаем средние оценки (+ median, variance, etc.) фильма"
   ]
  },
  {
   "cell_type": "code",
   "execution_count": 48,
   "metadata": {},
   "outputs": [
    {
     "data": {
      "text/plain": [
       "<AxesSubplot:>"
      ]
     },
     "execution_count": 48,
     "metadata": {},
     "output_type": "execute_result"
    },
    {
     "data": {
      "image/png": "[encoded data removed]",
      "text/plain": [
       "<Figure size 432x288 with 1 Axes>"
      ]
     },
     "metadata": {
      "needs_background": "light"
     },
     "output_type": "display_data"
    }
   ],
   "source": [
    "# Гистограмма количества оценок рейтинга. Более 8000 фильмов имеют от 0 до 10 оценок. \n",
    "# Только 200 фильмов имеют 50 оценок.\n",
    "ratings.groupby('movieId').rating.count().hist(bins=25)"
   ]
  },
  {
   "cell_type": "code",
   "execution_count": 49,
   "metadata": {},
   "outputs": [
    {
     "data": {
      "text/plain": [
       "3.0"
      ]
     },
     "execution_count": 49,
     "metadata": {},
     "output_type": "execute_result"
    }
   ],
   "source": [
    "# Медиана оценок на фильм\n",
    "ratings.groupby('movieId').rating.count().median()"
   ]
  },
  {
   "cell_type": "code",
   "execution_count": 50,
   "metadata": {},
   "outputs": [
    {
     "data": {
      "text/plain": [
       "10.369806663924312"
      ]
     },
     "execution_count": 50,
     "metadata": {},
     "output_type": "execute_result"
    }
   ],
   "source": [
    "# Среднее количество (математическое ожидание) оценок на фильм\n",
    "ratings.groupby('movieId').rating.count().mean()"
   ]
  },
  {
   "cell_type": "code",
   "execution_count": 51,
   "metadata": {},
   "outputs": [
    {
     "data": {
      "text/plain": [
       "movieId\n",
       "1         3.920930\n",
       "2         3.431818\n",
       "3         3.259615\n",
       "4         2.357143\n",
       "5         3.071429\n",
       "            ...   \n",
       "193581    4.000000\n",
       "193583    3.500000\n",
       "193585    3.500000\n",
       "193587    3.500000\n",
       "193609    4.000000\n",
       "Name: rating, Length: 9724, dtype: float64"
      ]
     },
     "execution_count": 51,
     "metadata": {},
     "output_type": "execute_result"
    }
   ],
   "source": [
    "# Средняя оценка фильма по его id\n",
    "movieID_mean = ratings.groupby('movieId').rating.mean()\n",
    "movieID_mean"
   ]
  },
  {
   "cell_type": "code",
   "execution_count": 52,
   "metadata": {},
   "outputs": [
    {
     "data": {
      "text/plain": [
       "3.2624482748109656"
      ]
     },
     "execution_count": 52,
     "metadata": {},
     "output_type": "execute_result"
    }
   ],
   "source": [
    "# Средняя оценка по всем фильмам\n",
    "np.mean(movieID_mean)"
   ]
  },
  {
   "cell_type": "code",
   "execution_count": 53,
   "metadata": {},
   "outputs": [
    {
     "data": {
      "text/plain": [
       "0.7566023242488846"
      ]
     },
     "execution_count": 53,
     "metadata": {},
     "output_type": "execute_result"
    }
   ],
   "source": [
    "# Дисперсия оценок по всем фильмам\n",
    "np.var(movieID_mean)"
   ]
  },
  {
   "cell_type": "markdown",
   "metadata": {},
   "source": [
    "Рассчитаем средние оценки (+ median, variance, etc.) пользователя"
   ]
  },
  {
   "cell_type": "code",
   "execution_count": 54,
   "metadata": {},
   "outputs": [
    {
     "data": {
      "text/plain": [
       "<AxesSubplot:>"
      ]
     },
     "execution_count": 54,
     "metadata": {},
     "output_type": "execute_result"
    },
    {
     "data": {
      "image/png": "[encoded data removed]",
      "text/plain": [
       "<Figure size 432x288 with 1 Axes>"
      ]
     },
     "metadata": {
      "needs_background": "light"
     },
     "output_type": "display_data"
    }
   ],
   "source": [
    "# Гистограмма количества оценок на пользователя. Более 360 пользователей поставили от 0 до 10 оценок. \n",
    "# 10 пользователей поставили от 490 до 510 оценок.\n",
    "ratings.groupby('userId').rating.count().hist(bins=30)"
   ]
  },
  {
   "cell_type": "code",
   "execution_count": 55,
   "metadata": {},
   "outputs": [
    {
     "data": {
      "text/plain": [
       "70.5"
      ]
     },
     "execution_count": 55,
     "metadata": {},
     "output_type": "execute_result"
    }
   ],
   "source": [
    "# Медиана оценок на пользователя\n",
    "ratings.groupby('userId').rating.count().median()"
   ]
  },
  {
   "cell_type": "code",
   "execution_count": 56,
   "metadata": {},
   "outputs": [
    {
     "data": {
      "text/plain": [
       "165.30491803278687"
      ]
     },
     "execution_count": 56,
     "metadata": {},
     "output_type": "execute_result"
    }
   ],
   "source": [
    "# Среднее количество (математическое ожидание) оценок на пользователя\n",
    "ratings.groupby('userId').rating.count().mean()"
   ]
  },
  {
   "cell_type": "code",
   "execution_count": 57,
   "metadata": {},
   "outputs": [
    {
     "data": {
      "text/plain": [
       "userId\n",
       "1      4.366379\n",
       "2      3.948276\n",
       "3      2.435897\n",
       "4      3.555556\n",
       "5      3.636364\n",
       "         ...   \n",
       "606    3.657399\n",
       "607    3.786096\n",
       "608    3.134176\n",
       "609    3.270270\n",
       "610    3.688556\n",
       "Name: rating, Length: 610, dtype: float64"
      ]
     },
     "execution_count": 57,
     "metadata": {},
     "output_type": "execute_result"
    }
   ],
   "source": [
    "# Средняя оценка фильма пользователем\n",
    "userID_mean = ratings.groupby('userId').rating.mean()\n",
    "userID_mean"
   ]
  },
  {
   "cell_type": "code",
   "execution_count": 58,
   "metadata": {},
   "outputs": [
    {
     "data": {
      "text/plain": [
       "3.657222337747402"
      ]
     },
     "execution_count": 58,
     "metadata": {},
     "output_type": "execute_result"
    }
   ],
   "source": [
    "# Средняя оценка по всем пользователям\n",
    "np.mean(userID_mean)"
   ]
  },
  {
   "cell_type": "code",
   "execution_count": 59,
   "metadata": {},
   "outputs": [
    {
     "data": {
      "text/plain": [
       "0.2306316028462928"
      ]
     },
     "execution_count": 59,
     "metadata": {},
     "output_type": "execute_result"
    }
   ],
   "source": [
    "# Дисперсия оценок по всем пользователям\n",
    "np.var(userID_mean)"
   ]
  }
 ],
 "metadata": {
  "kernelspec": {
   "display_name": "Python 3",
   "language": "python",
   "name": "python3"
  },
  "language_info": {
   "codemirror_mode": {
    "name": "ipython",
    "version": 3
   },
   "file_extension": ".py",
   "mimetype": "text/x-python",
   "name": "python",
   "nbconvert_exporter": "python",
   "pygments_lexer": "ipython3",
   "version": "3.8.5"
  }
 },
 "nbformat": 4,
 "nbformat_minor": 4
}
